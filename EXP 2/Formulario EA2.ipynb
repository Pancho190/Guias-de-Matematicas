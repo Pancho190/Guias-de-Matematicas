{
 "cells": [
  {
   "cell_type": "markdown",
   "metadata": {},
   "source": [
    "# Formulario Python Prueba 2 MAT2121"
   ]
  },
  {
   "cell_type": "markdown",
   "metadata": {},
   "source": [
    "## Importar bibliotecas o librerías"
   ]
  },
  {
   "cell_type": "code",
   "execution_count": 1,
   "metadata": {},
   "outputs": [],
   "source": [
    "import numpy as np"
   ]
  },
  {
   "cell_type": "markdown",
   "metadata": {},
   "source": [
    "## Sucesiones"
   ]
  },
  {
   "cell_type": "markdown",
   "metadata": {},
   "source": [
    "Término general de sucesión aritmética:\n",
    "\n",
    "$$a_{n} = a_{1} + (n - 1)\\cdot d$$\n",
    "\n",
    "Término general de sucesión geométrica:\n",
    "\n",
    "$$a_{n} = a_{1} \\cdot r^{n-1}$$"
   ]
  },
  {
   "cell_type": "code",
   "execution_count": null,
   "metadata": {},
   "outputs": [],
   "source": [
    "#Creación de sucesiones con listas\n",
    "sucesion = []\n",
    "for i in range(cantidad de valores a mostrar):\n",
    "    n = i + 1\n",
    "    sucesion.append(Término general)\n",
    "    print(f'El término {n} es {sucesion[i]}')\n",
    "\n",
    "\n",
    "#Suma de términos de una lista\n",
    "suma = sum(sucesion)    "
   ]
  },
  {
   "cell_type": "markdown",
   "metadata": {},
   "source": [
    "## Matrices y aplicaciones"
   ]
  },
  {
   "cell_type": "code",
   "execution_count": null,
   "metadata": {},
   "outputs": [],
   "source": [
    "#Definición de matrices en Python\n",
    "A = np.array([[elemento, elemento],\n",
    "              [elemento, elemento]])\n",
    "\n",
    "B = np.array([[elemento, elemento],\n",
    "              [elemento, elemento]])\n",
    "\n",
    "\n",
    "#Transpuesta de una matriz\n",
    "T = B.T\n",
    "\n",
    "#Multiplicación de matrices\n",
    "C = np.dot(A, B)\n"
   ]
  },
  {
   "cell_type": "code",
   "execution_count": null,
   "metadata": {},
   "outputs": [],
   "source": [
    "#Cración de matrices mediante función sobre los índices\n",
    "\n",
    "D = np.fromfunction(lambda i, j: función sobre los índices, (orden de la matriz))\n",
    "E = np.fromfunction(lambda i, j: función sobre los índices, (orden de la matriz))"
   ]
  },
  {
   "cell_type": "code",
   "execution_count": null,
   "metadata": {},
   "outputs": [],
   "source": [
    "#Inversa de una matriz\n",
    "\n",
    "F = np.array([[elemento, elemento],\n",
    "              [elemento, elemento]])\n",
    "\n",
    "F_inv = np.linalg.inv(F)"
   ]
  }
 ],
 "metadata": {
  "kernelspec": {
   "display_name": "Python 3",
   "language": "python",
   "name": "python3"
  },
  "language_info": {
   "codemirror_mode": {
    "name": "ipython",
    "version": 3
   },
   "file_extension": ".py",
   "mimetype": "text/x-python",
   "name": "python",
   "nbconvert_exporter": "python",
   "pygments_lexer": "ipython3",
   "version": "3.12.4"
  }
 },
 "nbformat": 4,
 "nbformat_minor": 2
}
