{
 "cells": [
  {
   "cell_type": "markdown",
   "metadata": {
    "id": "Jsg7AmugfdN3"
   },
   "source": [
    "# Problema 1"
   ]
  },
  {
   "cell_type": "markdown",
   "metadata": {
    "id": "_IzpNklvfgKe"
   },
   "source": [
    "Considere la sucesión $a_{n} = 3n^{2} + 7$. Por medio de un código en *Python* despliega en pantalla:\n",
    "\n",
    "1. Los primeros $5$ términos.\n",
    "2. Los $5$ términos que vienen inmediatamente después del decimoquinto término."
   ]
  },
  {
   "cell_type": "code",
   "execution_count": 6,
   "metadata": {},
   "outputs": [
    {
     "name": "stdout",
     "output_type": "stream",
     "text": [
      "a_1=10\n",
      "a_2=19\n",
      "a_3=34\n",
      "a_4=55\n",
      "a_5=82\n"
     ]
    }
   ],
   "source": [
    "#1\n",
    "a=[]\n",
    "for i in range(5):\n",
    "    n=i+1\n",
    "    a.append(3*n**2+7)\n",
    "    print(f'a_{n}={a[i]}')"
   ]
  },
  {
   "cell_type": "code",
   "execution_count": 7,
   "metadata": {},
   "outputs": [
    {
     "name": "stdout",
     "output_type": "stream",
     "text": [
      "a_16=775\n",
      "a_17=874\n",
      "a_18=979\n",
      "a_19=1090\n",
      "a_20=1207\n"
     ]
    }
   ],
   "source": [
    "#2\n",
    "a=[]\n",
    "for i in range(5):\n",
    "    n=i+16\n",
    "    a.append(3*n**2+7)\n",
    "    print(f'a_{n}={a[i]}')"
   ]
  },
  {
   "cell_type": "markdown",
   "metadata": {
    "id": "MpHLoYWfk97E"
   },
   "source": [
    "# Problema 2"
   ]
  },
  {
   "cell_type": "markdown",
   "metadata": {
    "id": "TdrPqS7Mk_l0"
   },
   "source": [
    "Considere la sucesión $g_{n} = 5n^{3}$. Implemente un código en *Python* que muestre en pantalla:\n",
    "\n",
    "1. Los primeros $4$ términos de la sucesión.\n",
    "2. Los $4$ términos que vienen inmediatamente después del octavo término.\n",
    "3. Determinar si el término $40.000$ pertenece a la sucesión. Si es así, indicar en qué posición se encuentra."
   ]
  },
  {
   "cell_type": "code",
   "execution_count": 20,
   "metadata": {},
   "outputs": [
    {
     "name": "stdout",
     "output_type": "stream",
     "text": [
      "a_1=5\n",
      "a_2=40\n",
      "a_3=135\n",
      "a_4=320\n"
     ]
    }
   ],
   "source": [
    "#1\n",
    "\n",
    "a=[]\n",
    "\n",
    "for i in range(4):\n",
    "    n=i+1\n",
    "    a.append(5*n**3)\n",
    "    print(f'a_{n}={a[i]}')\n"
   ]
  },
  {
   "cell_type": "code",
   "execution_count": 24,
   "metadata": {},
   "outputs": [
    {
     "name": "stdout",
     "output_type": "stream",
     "text": [
      "a_9=3645\n",
      "a_10=5000\n",
      "a_11=6655\n",
      "a_12=8640\n"
     ]
    }
   ],
   "source": [
    "#2\n",
    "\n",
    "a = []\n",
    "\n",
    "for i in range(4):\n",
    "    n=i+9\n",
    "    a.append(5*n**3)\n",
    "    print(f'a_{n}={a[i]}')\n"
   ]
  },
  {
   "cell_type": "code",
   "execution_count": 27,
   "metadata": {},
   "outputs": [
    {
     "name": "stdout",
     "output_type": "stream",
     "text": [
      "El termino 40000 esta en la posicion 20\n"
     ]
    }
   ],
   "source": [
    "#3\n",
    "\n",
    "final = 40000\n",
    "termino = 0\n",
    "n = 0\n",
    "dif = final-termino\n",
    "while dif > 0:\n",
    "    n += 1\n",
    "    termino = 5*n**3\n",
    "    dif = final-termino\n",
    "print(f'El termino {final} esta en la posicion {n}')"
   ]
  },
  {
   "cell_type": "markdown",
   "metadata": {
    "id": "7GDU-KDLuR7i"
   },
   "source": [
    "# Problema 3"
   ]
  },
  {
   "cell_type": "markdown",
   "metadata": {
    "id": "GG1duXd1uU6Z"
   },
   "source": [
    "La sucesión de Fibonacci es una serie de números en la que cada número, desde el tercero en adelante, es la suma de los dos anteriores. Comienza con el $0$ y $1$, tal como se observa a continuación:\n",
    "\n",
    "$$0, 1, 1, 2, 3, 5, 8, 13, ...$$\n",
    "\n",
    "Formalmente, la sucesión se define de la siguiente manera:\n",
    "\n",
    "\\begin{split}\n",
    "F(0) &= 0\\\\\n",
    "F(1) &= 1\\\\\n",
    "F(n) &= F(n - 1) + F(n - 2), \\ \\text{ para $n \\geq 2$}\n",
    "\\end{split}\n",
    "\n",
    "Esta sucesión se utiliza en una variedad de contextos en informática y algoritmos debido a sus propiedades matemáticas y patrones.\n",
    "\n",
    "1. Implementa un código en *Python* que muestre en pantalla los primeros $20$ términos de la sucesión.\n",
    "2. Calcula, utilizando un ciclo *for*, la suma de los primeros $30$ términos de la sucesión de Fibonacci."
   ]
  },
  {
   "cell_type": "markdown",
   "metadata": {
    "id": "OFL3b7nt8Rq_"
   },
   "source": [
    "# Problema 4"
   ]
  },
  {
   "cell_type": "markdown",
   "metadata": {
    "id": "j5QlZQwJSDsZ"
   },
   "source": [
    "Implementa un código que permita guardar en una lista la sucesión de los primeros $n$ números pares, con $n \\geq 1$. Luego, determina:\n",
    "\n",
    "1. ¿Cuál es el valor del décimo término?\n",
    "2. Calcula, utilizando un ciclo *for*, la suma de los primeros $100$ números pares.\n",
    "3. ¿En qué posición se encuentra el número $58$ dentro de la sucesión?"
   ]
  },
  {
   "cell_type": "code",
   "execution_count": 40,
   "metadata": {},
   "outputs": [
    {
     "name": "stdout",
     "output_type": "stream",
     "text": [
      "a_10=20\n"
     ]
    }
   ],
   "source": [
    "#1\n",
    "a=[]\n",
    "for i in range(1):\n",
    "    n=i+10\n",
    "    a.append(2*n)\n",
    "    print(f'a_{n}={a[i]}')"
   ]
  },
  {
   "cell_type": "code",
   "execution_count": 42,
   "metadata": {},
   "outputs": [
    {
     "name": "stdout",
     "output_type": "stream",
     "text": [
      "La suma de 100 numeros pares es 10100\n"
     ]
    }
   ],
   "source": [
    "#2\n",
    "par = []\n",
    "\n",
    "for i in range(100):\n",
    "    n=i+1\n",
    "    par.append(2*n)\n",
    "suma = sum(par)\n",
    "\n",
    "print(f'La suma de 100 numeros pares es {suma}')"
   ]
  },
  {
   "cell_type": "code",
   "execution_count": null,
   "metadata": {},
   "outputs": [
    {
     "name": "stdout",
     "output_type": "stream",
     "text": [
      "3) El termino 58 se encuentra en la posicion 29 de la sucesion\n"
     ]
    }
   ],
   "source": [
    "#3\n",
    "posicion = par.index(58)\n",
    "print(f'3) El termino 58 se encuentra en la posicion {posicion + 1} de la sucesion')\n"
   ]
  },
  {
   "cell_type": "markdown",
   "metadata": {
    "id": "gBcDYpK2Z3GT"
   },
   "source": [
    "# Problema 5"
   ]
  },
  {
   "cell_type": "markdown",
   "metadata": {
    "id": "eS3i68R4Z6YQ"
   },
   "source": [
    "Un nuevo software tiene $500$ usuarios y se espera que el número de usuarios crezca un $15\\%$ respecto al mes anterior. Considere que $b_{n}$ es el número de usuarios transcurridos $n$ meses.\n",
    "\n",
    "1. Calcula cuántos usuarios tendrá el software al cabo de tres meses. ¿Y al cabo de seis meses?\n",
    "2. Mediante un código en *Pyhton* muestra la cantidad de usuarios que tendrá el software cada mes durante el primer año.\n",
    "2. ¿Cuántos usuarios tendrá en total el software luego de un año? Utilice ciclos *for* para calcular."
   ]
  },
  {
   "cell_type": "code",
   "execution_count": 17,
   "metadata": {},
   "outputs": [
    {
     "name": "stdout",
     "output_type": "stream",
     "text": [
      "a_6=1006\n"
     ]
    }
   ],
   "source": [
    "#1\n",
    "\n",
    "g=[]\n",
    "for i in range(6):\n",
    "    n=i+1\n",
    "    g.append(500 * 1.15**(n-1))\n",
    "print(f'a_{n}={g[i]:.0f}')"
   ]
  },
  {
   "cell_type": "markdown",
   "metadata": {},
   "source": [
    "Al cabo de 3 meses tendra 661 usuarios aprox y a los 6 meses 1006 aprox"
   ]
  },
  {
   "cell_type": "code",
   "execution_count": 18,
   "metadata": {},
   "outputs": [
    {
     "name": "stdout",
     "output_type": "stream",
     "text": [
      "a_12=2326\n"
     ]
    }
   ],
   "source": [
    "#2\n",
    "\n",
    "g=[]\n",
    "for i in range(12):\n",
    "    n=i+1\n",
    "    g.append(500 * 1.15**(n-1))\n",
    "print(f'a_{n}={g[i]:.0f}')"
   ]
  },
  {
   "cell_type": "code",
   "execution_count": 17,
   "metadata": {},
   "outputs": [
    {
     "name": "stdout",
     "output_type": "stream",
     "text": [
      "a_12=2326\n",
      "Luego de un año, el software tiene 14501 usuarios\n"
     ]
    }
   ],
   "source": [
    "#3\n",
    "\n",
    "g=[]\n",
    "for i in range(12):\n",
    "    n=i+1\n",
    "    g.append(500 * 1.15**(n-1))\n",
    "print(f'a_{n}={g[i]:.0f}')\n",
    "\n",
    "suma = sum(g)\n",
    "\n",
    "print(f'Luego de un año, el software tiene {suma:.0f} usuarios')"
   ]
  },
  {
   "cell_type": "markdown",
   "metadata": {
    "id": "s2hruXWnJDbS"
   },
   "source": [
    "# Problema 6"
   ]
  },
  {
   "cell_type": "markdown",
   "metadata": {
    "id": "hH_VNmA_Og0U"
   },
   "source": [
    "Un estudiante de ingeniería informática planea ahorrar para un proyecto personal. Para esto, el primer mes deposita $\\$12.000$ y cada mes aumenta el depósito en $\\$2.000$. Considere que $a_{i}$ corresponde al depósito mensual del estudiante. Determine:\n",
    "\n",
    "1. Implementa un código que permita mostrar en pantalla lo que depositó mensualmente durante el primer año.\n",
    "2. ¿Cuánto depositó el estudiante en febrero del segundo año?\n",
    "3. ¿Cuál será el total ahorrado al finalizar dos años?"
   ]
  },
  {
   "cell_type": "code",
   "execution_count": 16,
   "metadata": {},
   "outputs": [
    {
     "name": "stdout",
     "output_type": "stream",
     "text": [
      "a_12=34000\n"
     ]
    }
   ],
   "source": [
    "#1\n",
    "\n",
    "a=[]\n",
    "for i in range(12):\n",
    "    n=i+1\n",
    "    a.append(12000 + (n-1)* 2000)\n",
    "print(f'a_{n}={a[i]:.0f}')"
   ]
  },
  {
   "cell_type": "markdown",
   "metadata": {},
   "source": [
    "al primer año el deposito total es de 34000"
   ]
  },
  {
   "cell_type": "markdown",
   "metadata": {},
   "source": [
    "2) AL ahorrar por un 1 año y 2 meses (febrero del siguiente año) es de 38000"
   ]
  },
  {
   "cell_type": "code",
   "execution_count": 12,
   "metadata": {},
   "outputs": [
    {
     "name": "stdout",
     "output_type": "stream",
     "text": [
      "Al finalizar el ahorro de 2 años el tendra un total de 840000\n"
     ]
    }
   ],
   "source": [
    "#3\n",
    "\n",
    "a=[]\n",
    "for i in range(24):\n",
    "    n=i+1\n",
    "    a.append(12000 + (n-1)* 2000)\n",
    "suma=sum(a)\n",
    "\n",
    "print(f'Al finalizar el ahorro de 2 años el tendra un total de {suma}')"
   ]
  },
  {
   "cell_type": "markdown",
   "metadata": {
    "id": "G9sEfl4rB3e8"
   },
   "source": [
    "# Problema 7"
   ]
  },
  {
   "cell_type": "markdown",
   "metadata": {
    "id": "KZUNnG20CT4F"
   },
   "source": [
    "Por lo general, los proyectos son organizados en varias etapas que deben completarse secuencialmente.\n",
    "\n",
    "La fase inicial de un proyecto de software tiene una duración de $3$ meses y cada fase subsecuente reduce su duración en un $10 \\%$ debido a la experiencia ganada. Determine:\n",
    "\n",
    "1. ¿Cuánto dura la quinta fase?\n",
    "2. Calcula la duración total del proyecto después de $10$ fases."
   ]
  },
  {
   "cell_type": "code",
   "execution_count": 15,
   "metadata": {},
   "outputs": [
    {
     "name": "stdout",
     "output_type": "stream",
     "text": [
      "a_5=2.0\n"
     ]
    }
   ],
   "source": [
    "#1\n",
    "\n",
    "g=[]\n",
    "for i in range(5):\n",
    "    n=i+1\n",
    "    g.append(3 * 0.9**(n-1))\n",
    "print(f'a_{n}={g[i]:.1f}')"
   ]
  },
  {
   "cell_type": "code",
   "execution_count": 9,
   "metadata": {},
   "outputs": [
    {
     "name": "stdout",
     "output_type": "stream",
     "text": [
      "la duracion total del proyecto despues de las 10 fases es de 20\n"
     ]
    }
   ],
   "source": [
    "#2\n",
    "\n",
    "g=[]\n",
    "for i in range(10):\n",
    "    n=i+1\n",
    "    g.append(3 * 0.9**(n-1))\n",
    "suma=sum(g)\n",
    "\n",
    "print(f'la duracion total del proyecto despues de las 10 fases es de {suma:.0f}')"
   ]
  },
  {
   "cell_type": "markdown",
   "metadata": {
    "id": "keVOy_xIlU1E"
   },
   "source": [
    "# Problema 8"
   ]
  },
  {
   "cell_type": "markdown",
   "metadata": {
    "id": "QXrNG-zulXil"
   },
   "source": [
    "En una sucesión aritmética, la diferencia entre un término y el anterior es $4$ y el décimo término es $-20$. Determine:\n",
    "\n",
    "1. El primer término de la sucesión.\n",
    "2. La expresión del término de lugar $n$.\n",
    "3. Utilice un código en *Python* para calcular el término que ocupa el lugar $100$.\n",
    "4. Determinar la posición del número $1.680$ en la secuencia. Calcule utilizando un ciclo *while*."
   ]
  },
  {
   "cell_type": "markdown",
   "metadata": {},
   "source": [
    "1\n",
    "El primer termino es -50"
   ]
  },
  {
   "cell_type": "markdown",
   "metadata": {},
   "source": [
    "2\n",
    "an = -56 + (n+1) * 4"
   ]
  },
  {
   "cell_type": "code",
   "execution_count": 28,
   "metadata": {},
   "outputs": [
    {
     "name": "stdout",
     "output_type": "stream",
     "text": [
      "El termino que ocupa el lugar 100 es 340.0\n",
      "El termino 1680 se encuentra en la posicion 435 de la sucesion\n"
     ]
    }
   ],
   "source": [
    "#3\n",
    "\n",
    "a=[]\n",
    "for i in range(1000):\n",
    "    n=i+1\n",
    "    a.append(-56 + (n-1)* 4)\n",
    "print(f'El termino que ocupa el lugar 100 es {a[99]:.1f}')\n",
    "\n",
    "#4\n",
    "\n",
    "posicion = a.index(1680)\n",
    "print(f' El termino 1680 se encuentra en la posicion {posicion + 1} de la sucesion')"
   ]
  },
  {
   "cell_type": "markdown",
   "metadata": {
    "id": "gFYqGSbdqoqT"
   },
   "source": [
    "# Problema 9"
   ]
  },
  {
   "cell_type": "markdown",
   "metadata": {
    "id": "UtblbNCYqxOM"
   },
   "source": [
    "El tercer término de una sucesión geométrica es $5$ y el sexto término es $40$. Determine:\n",
    "\n",
    "1. La razón geométrica de la sucesión.\n",
    "2. El primer término de la sucesión.\n",
    "3. La expresión del término de lugar $n$.\n",
    "4. Utilice un código en *Python* para calcular el término que ocupa el lugar $8$.\n",
    "4. ¿Qué lugar ocupa en esta sucesión el término $20.480$? Calcule utilizando un ciclo *while*."
   ]
  },
  {
   "cell_type": "markdown",
   "metadata": {},
   "source": [
    "1.\n",
    "a3 = 5\n",
    "\n",
    "a6 = 40\n",
    "\n",
    "a3 = a1 * r(3-1)\n",
    "5 = a1 * r**2\n",
    "\n",
    "a6 = a1 * r(6-1)\n",
    "40 = a1*r**5\n",
    "\n",
    "2 = r"
   ]
  },
  {
   "cell_type": "markdown",
   "metadata": {},
   "source": [
    "2.\n",
    "5 = a1 * 2**2\n",
    "5/4 = a1"
   ]
  },
  {
   "cell_type": "markdown",
   "metadata": {},
   "source": [
    "3.\n",
    "an = 1.25 * 2**(n-1)"
   ]
  },
  {
   "cell_type": "code",
   "execution_count": 38,
   "metadata": {},
   "outputs": [
    {
     "name": "stdout",
     "output_type": "stream",
     "text": [
      "El termino que ocupa el lugar 8 es 160\n",
      "El termino 20480 se encuentra en la posicion 15 de la sucesion\n"
     ]
    }
   ],
   "source": [
    "#4\n",
    "\n",
    "g=[]\n",
    "for i in range(1000):\n",
    "    n=i+1\n",
    "    g.append(1.25*2**(n-1))\n",
    "print(f'El termino que ocupa el lugar 8 es {g[7]:.0f}')\n",
    "\n",
    "posicion = g.index(20480)\n",
    "print(f'El termino 20480 se encuentra en la posicion {posicion + 1} de la sucesion')\n"
   ]
  },
  {
   "cell_type": "markdown",
   "metadata": {
    "id": "Ju4J8uWfxQKk"
   },
   "source": [
    "# Problema 10"
   ]
  },
  {
   "cell_type": "markdown",
   "metadata": {
    "id": "F6FPVCXQxTMj"
   },
   "source": [
    "Una empresa de tecnología está optimizando sus servidores. Para ello, mide cada mes las transacciones por segundo (TPS) de sus servidores. Se ha obtenido que el segundo mes, el rendimiento del servidor es $1,2$ miles de TPS y el quinto mes, el rendimiento es de $2,7$ miles de TPS. Determina utilizando un código en *Python*:\n",
    "\n",
    "1. ¿Cuál es el rendimiento el noveno mes?\n",
    "2. ¿En qué mes el rendimiento es de $23,4$ miles de TPS?\n",
    "\n",
    "Utilice dos decimales para el cálculo."
   ]
  },
  {
   "cell_type": "markdown",
   "metadata": {},
   "source": [
    "a2 = 1,2\n",
    "\n",
    "a5 = 2,7\n",
    "\n",
    "1) 1,2 =  a1 + d\n",
    "\n",
    "2) 2,7 = a1 + 4d\n",
    "\n",
    "Restamos 2) - 1) las ecuaciones , quedando\n",
    "\n",
    "1.5 = 3d\n",
    "0.5 = d\n",
    "\n",
    "Remplazo d = 0.5 en la ecuacion 1)\n",
    "\n",
    "1.2 = a1 + o,5 despejamos a1\n",
    "1.2 -0.5 = a+1\n",
    "0.7 = a1\n",
    "\n",
    "an = 0.7 + (n-1)*0.5"
   ]
  },
  {
   "cell_type": "code",
   "execution_count": 16,
   "metadata": {},
   "outputs": [
    {
     "name": "stdout",
     "output_type": "stream",
     "text": [
      "El rendimiento del noveno mes es 4.7 miles de TPS\n"
     ]
    }
   ],
   "source": [
    "#1\n",
    "a = []\n",
    "\n",
    "for i in range(100):\n",
    "    n = i+1\n",
    "    a.append(0.7 +(n-1)*0.5)\n",
    "print(f'El rendimiento del noveno mes es {a[8]} miles de TPS')"
   ]
  },
  {
   "cell_type": "code",
   "execution_count": 19,
   "metadata": {},
   "outputs": [
    {
     "ename": "ValueError",
     "evalue": "23.4 is not in list",
     "output_type": "error",
     "traceback": [
      "\u001b[1;31m---------------------------------------------------------------------------\u001b[0m",
      "\u001b[1;31mValueError\u001b[0m                                Traceback (most recent call last)",
      "Cell \u001b[1;32mIn[19], line 3\u001b[0m\n\u001b[0;32m      1\u001b[0m \u001b[38;5;66;03m#2\u001b[39;00m\n\u001b[1;32m----> 3\u001b[0m posicion \u001b[38;5;241m=\u001b[39m \u001b[43ma\u001b[49m\u001b[38;5;241;43m.\u001b[39;49m\u001b[43mindex\u001b[49m\u001b[43m(\u001b[49m\u001b[38;5;241;43m23.4\u001b[39;49m\u001b[43m)\u001b[49m\n\u001b[0;32m      4\u001b[0m \u001b[38;5;28mprint\u001b[39m(\u001b[38;5;124mf\u001b[39m\u001b[38;5;124m'\u001b[39m\u001b[38;5;124m El termino 23,4 se encuentra en la posicion \u001b[39m\u001b[38;5;132;01m{\u001b[39;00mposicion\u001b[38;5;250m \u001b[39m\u001b[38;5;241m+\u001b[39m\u001b[38;5;250m \u001b[39m\u001b[38;5;241m1\u001b[39m\u001b[38;5;132;01m}\u001b[39;00m\u001b[38;5;124m de la sucesion\u001b[39m\u001b[38;5;124m'\u001b[39m)\n",
      "\u001b[1;31mValueError\u001b[0m: 23.4 is not in list"
     ]
    }
   ],
   "source": [
    "#2\n",
    "\n",
    "posicion = a.index(23.4)\n",
    "print(f'Cuando el rendimiento es de 23.4 miles de TPS, en el {posicion +1} mes')"
   ]
  },
  {
   "cell_type": "markdown",
   "metadata": {
    "id": "jxQyaJXUCW7m"
   },
   "source": [
    "# Problema 11"
   ]
  },
  {
   "cell_type": "markdown",
   "metadata": {
    "id": "8LdxsBUwDfbf"
   },
   "source": [
    "Una aplicación de redes sociales inició el $1$ de enero y comenzó a ganar usuarios rápidamente. El $3$ de enero tenía $500$ usuarios y el $10$ de enero tenía $1.501$ usuarios. Si el número de usuarios sigue creciendo de manera constante, determine:\n",
    "\n",
    "1. ¿Con cuántos usuarios comenzó a funcionar la aplicación?\n",
    "2. ¿Cuántos usuarios tendrá la aplicación el $31$ de enero?\n",
    "3. Si la aplicación tiene $5.505$ usuarios, ¿cuántos meses lleva funcionando?\n",
    "\n"
   ]
  },
  {
   "cell_type": "markdown",
   "metadata": {},
   "source": [
    "a3 = 500\n",
    "a10 = 1501\n",
    "\n",
    "500 = a1 + (3-1)*d\n",
    "1501 = a1 + (10-1)*d\n",
    "\n",
    "1) 500 = a1 + (3-1)*2\n",
    "2) 1501 = a1 + (10-1)*9\n",
    "\n",
    "Restar 2) con 1)\n",
    "\n",
    "1001 = 7d\n",
    "\n",
    "1001/7 = d\n",
    "143 = d\n",
    "\n",
    "500      = a1 + 2*143\n",
    "500 -286 = a1\n",
    "    214 = a1\n",
    "\n",
    "an = 214 + (n-1)*143"
   ]
  },
  {
   "cell_type": "code",
   "execution_count": 24,
   "metadata": {},
   "outputs": [
    {
     "name": "stdout",
     "output_type": "stream",
     "text": [
      "Los usuarios que tendra la aplicacion son 4504 en enero\n"
     ]
    }
   ],
   "source": [
    "#2\n",
    "a = []\n",
    "\n",
    "for i in range(40):\n",
    "    n = i+1\n",
    "    a.append(214 + (n-1)*143)\n",
    "print(f'Los usuarios que tendra la aplicacion son {a[30]} en enero')\n"
   ]
  },
  {
   "cell_type": "code",
   "execution_count": 26,
   "metadata": {},
   "outputs": [
    {
     "name": "stdout",
     "output_type": "stream",
     "text": [
      "Los meses que lleva funcionando el sistema cuando son 5505 usuarios son 38 \n"
     ]
    }
   ],
   "source": [
    "posicion = a.index(5505)\n",
    "print(f'Los meses que lleva funcionando el sistema cuando son 5505 usuarios son {posicion + 1} ')"
   ]
  },
  {
   "cell_type": "markdown",
   "metadata": {
    "id": "zBN3BhYVLLSe"
   },
   "source": [
    "# Problema 12"
   ]
  },
  {
   "cell_type": "markdown",
   "metadata": {
    "id": "kszkhh_GLQN1"
   },
   "source": [
    "Una empresa de publicidad ofrece para un puesto de trabajo un salario inicial y un aumento mensual en una razón constante. Javier se presenta a la entrevista, y el encargado del departamento de recursos humanos le explica que en el segundo mes de trabajo su sueldo será de $\\$402.000$, y que en el tercer mes de trabajo será de $\\$404.010$. Determine:\n",
    "\n",
    "1. El salario aproximado que Javier recibiría en el décimo mes de trabajo en la empresa.\n",
    "2. ¿Cuál sería el ingreso total recibido por los sueldos de Javier durante el tercer año de trabajo?"
   ]
  },
  {
   "cell_type": "markdown",
   "metadata": {},
   "source": [
    "a2 = 402000\n",
    "a3 = 404010\n",
    "\n",
    "a3/a2 = r\n",
    "1,005= r\n",
    "\n",
    "a2/a1 = 1,005\n",
    "\n",
    "402000/1,005 = a1\n",
    "400.000 = a1\n",
    "\n",
    "funcion: an = 400.000 * 1.005**(n-1)"
   ]
  },
  {
   "cell_type": "code",
   "execution_count": 40,
   "metadata": {},
   "outputs": [
    {
     "name": "stdout",
     "output_type": "stream",
     "text": [
      "El ingreso total de Javier al tercer año de trabajo es 5589468\n",
      "El salario aproximado que recibira javier es $473921\n"
     ]
    }
   ],
   "source": [
    "#1 y #2\n",
    "g=[]\n",
    "for i in range(25,37):\n",
    "    n=i+1\n",
    "    g.append(400000 * 1.005**(n-1))\n",
    "\n",
    "suma = sum(g)\n",
    "\n",
    "print(f'El ingreso total de Javier al tercer año de trabajo es {suma:.0f}')\n",
    "\n",
    "print(f'El salario aproximado que recibira javier es ${g[9]:.0f}')\n"
   ]
  },
  {
   "cell_type": "markdown",
   "metadata": {
    "id": "-lx5k4b9Y8sD"
   },
   "source": [
    "# Problema 13"
   ]
  },
  {
   "cell_type": "markdown",
   "metadata": {},
   "source": [
    "a1 = 30\n",
    "\n",
    "a2 = 60\n",
    "\n",
    "a3= 120\n",
    "\n",
    "a3/a2 = 2\n",
    "a2/a1 = 2\n",
    "\n",
    "r = 2\n",
    "\n",
    "a1 = 30"
   ]
  },
  {
   "cell_type": "code",
   "execution_count": 47,
   "metadata": {},
   "outputs": [
    {
     "name": "stdout",
     "output_type": "stream",
     "text": [
      "La capacitacion total  desde el conmienzo al final  de los 3 años es de 245730\n",
      "Al octavo trimestre la cantidad de trabajadores es de 3840\n"
     ]
    }
   ],
   "source": [
    "#1\n",
    "\n",
    "g=[]\n",
    "for i in range(13):\n",
    "    n=i+1\n",
    "    g.append(30 * 2**(n-1))\n",
    "\n",
    "suma = sum(g)\n",
    "\n",
    "print(f'La capacitacion total  desde el conmienzo al final  de los 3 años es de {suma:.0f}')\n",
    "print(f'Al octavo trimestre la cantidad de trabajadores es de {g[7]:.0f}')\n",
    "\n",
    "\n"
   ]
  },
  {
   "cell_type": "markdown",
   "metadata": {
    "id": "OVuWQuXsY_pp"
   },
   "source": [
    "Una empresa de ciberseguridad capacita trabajadores cada trimestre. En el primer trimestre capacitaron a $30$ trabajadores, en el segundo trimestre a $60$ trabajadores, y en el tercer trimestre a $120$ trabajadores. Si en los siguientes trimestres la empresa mantiene el mismo patrón de crecimiento, determine utilizando *Python*:\n",
    "\n",
    "1. ¿A cuántos trabajadores capacitarán en el octavo trimestre?\n",
    "2. Si la empresa lleva en el mercado $3$ años, ¿a cuántos trabajadores han capacitado en total?"
   ]
  },
  {
   "cell_type": "markdown",
   "metadata": {
    "id": "IM7Xf51G6AXs"
   },
   "source": [
    "# Problema 14"
   ]
  },
  {
   "cell_type": "markdown",
   "metadata": {
    "id": "Ni_4WMQl6OeV"
   },
   "source": [
    "Al llenar un tambor con agua, se registra que durante el minuto $4$ el tambor recibe $128$ litros, y durante el minuto $9$ recibe $88$ litros. Sabiendo que en cada minuto recibe una cantidad $d$ de litros de agua menos que en el minuto anterior, determine:\n",
    "\n",
    "1. ¿En qué instante el tambor deja de recibir agua?\n",
    "2. ¿Cuántos litros recibe en total el tambor?\n",
    "\n",
    "Realice los cálculos anteriores utilizando *Python*."
   ]
  },
  {
   "cell_type": "markdown",
   "metadata": {},
   "source": [
    "a4 = 128\n",
    "a9 = 88\n",
    "\n",
    "128 = a1 + (4-1)*d\n",
    "88 = a1 + (9-1)*d\n",
    "\n",
    "128= a1 + 3d\n",
    "88 = a1 8d\n",
    "\n",
    "\n",
    "\n",
    "-40 = 5d\n",
    "\n",
    "-40/5 = -8\n",
    "\n",
    "-8= d\n",
    "\n",
    "128 = a1 + 3*-8\n",
    "128+ 24 = a1\n",
    "152= a1\n",
    "\n",
    "an = 152 + (n-1)* -8\n"
   ]
  },
  {
   "cell_type": "code",
   "execution_count": 53,
   "metadata": {},
   "outputs": [
    {
     "name": "stdout",
     "output_type": "stream",
     "text": [
      "a los 20 minutos deja de recibir agua del tambor\n",
      " La cantidad total que recibe el tambor es de 1520\n"
     ]
    }
   ],
   "source": [
    "#1 y #2\n",
    "\n",
    "a = []\n",
    "\n",
    "for i in range(20):\n",
    "    n = i+1\n",
    "    a.append(152 + (n-1)* -8)\n",
    "\n",
    "posicion = a.index(0)\n",
    "print(f'a los {posicion + 1} minutos deja de recibir agua del tambor')\n",
    "\n",
    "suma = sum(a)\n",
    "print(f' La cantidad total que recibe el tambor es de {suma}')\n"
   ]
  }
 ],
 "metadata": {
  "colab": {
   "provenance": []
  },
  "kernelspec": {
   "display_name": "Python 3",
   "name": "python3"
  },
  "language_info": {
   "codemirror_mode": {
    "name": "ipython",
    "version": 3
   },
   "file_extension": ".py",
   "mimetype": "text/x-python",
   "name": "python",
   "nbconvert_exporter": "python",
   "pygments_lexer": "ipython3",
   "version": "3.12.4"
  }
 },
 "nbformat": 4,
 "nbformat_minor": 0
}
