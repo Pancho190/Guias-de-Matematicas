{
 "cells": [
  {
   "cell_type": "markdown",
   "metadata": {},
   "source": [
    "$$a_{n} = a_{1} + (n - 1)\\cdot d$$"
   ]
  },
  {
   "cell_type": "code",
   "execution_count": 4,
   "metadata": {},
   "outputs": [
    {
     "name": "stdout",
     "output_type": "stream",
     "text": [
      "176\n"
     ]
    }
   ],
   "source": [
    "suma = 200 + 24 -24 -24\n",
    "print(suma)"
   ]
  },
  {
   "cell_type": "code",
   "execution_count": null,
   "metadata": {},
   "outputs": [
    {
     "name": "stdout",
     "output_type": "stream",
     "text": [
      "El valor del termino que ocupa el lugar 36 en esta sucesion es: 1040\n",
      "La suma de los primeros 36 terminos es: 22320\n"
     ]
    }
   ],
   "source": [
    "#1 y #2 \n",
    "a = []\n",
    "for i in range(36):\n",
    "    n = i + 1\n",
    "    a.append(24*n + 176)\n",
    "print(f'El valor del termino que ocupa el lugar 36 en esta sucesion es: {a[i]}')\n",
    "\n",
    "suma = sum(a)\n",
    "print(f'La suma de los primeros 36 terminos es: {suma}')"
   ]
  },
  {
   "cell_type": "markdown",
   "metadata": {},
   "source": [
    "$$a_{n} = a_{1} \\cdot r^{n-1}$$"
   ]
  },
  {
   "cell_type": "code",
   "execution_count": null,
   "metadata": {},
   "outputs": [
    {
     "name": "stdout",
     "output_type": "stream",
     "text": [
      "El término 9 es: 2226664\n"
     ]
    }
   ],
   "source": [
    "#4\n",
    "g = []\n",
    "for i in range(9):\n",
    "    n = i + 1\n",
    "    g.append(2000000 * 1.012**n)\n",
    "print(f'El término 9 es: {g[i]:.0f}')\n"
   ]
  },
  {
   "cell_type": "code",
   "execution_count": null,
   "metadata": {},
   "outputs": [
    {
     "name": "stdout",
     "output_type": "stream",
     "text": [
      "8.0\n",
      "2.0\n",
      "533.0\n"
     ]
    }
   ],
   "source": [
    "#5 y #6\n",
    "\n",
    "# a_n=a_1 * r**(n-1)\n",
    "\n",
    "a_2 = 1066\n",
    "a_5 = 8528\n",
    "\n",
    "\n",
    "division = 8528/1066\n",
    "print(division)\n",
    "#Respuesta: 8\n",
    "\n",
    "raiz = 8**(1/3)\n",
    "print(raiz)\n",
    "#Respuesta: 2\n",
    "\n",
    "append = 1066/2\n",
    "print(append)\n",
    "#Respuesta: 533"
   ]
  },
  {
   "cell_type": "code",
   "execution_count": null,
   "metadata": {},
   "outputs": [
    {
     "name": "stdout",
     "output_type": "stream",
     "text": [
      "El término 9 es: 136448\n",
      "En el mes 7\n"
     ]
    }
   ],
   "source": [
    "#5 y #6 parte 2\n",
    "g = []\n",
    "for i in range(9):\n",
    "    n = i + 1\n",
    "    g.append(533*2**(n-1))\n",
    "print(f'El término 9 es: {g[i]:.0f}')\n",
    "\n",
    "print(f'En el mes {g.index(34112)+1}')"
   ]
  },
  {
   "cell_type": "markdown",
   "metadata": {},
   "source": [
    "$$a_{4} = a_{1} + (n - 1)\\cdot d$$"
   ]
  },
  {
   "cell_type": "code",
   "execution_count": null,
   "metadata": {},
   "outputs": [],
   "source": [
    "#7\n",
    "\n",
    "a_4 = 1108000 # = #a_1 + 3d\n",
    "                        # -\n",
    "a_12 = 1396000 # = a_1 + 11d\n",
    "                       # 8d\n"
   ]
  },
  {
   "cell_type": "code",
   "execution_count": 23,
   "metadata": {},
   "outputs": [
    {
     "name": "stdout",
     "output_type": "stream",
     "text": [
      "288000\n",
      "36000.0\n",
      "1080000\n",
      "El valor de arriendo de un mes es 1000000 $\n"
     ]
    }
   ],
   "source": [
    "resta= 1396000 - 1108000\n",
    "print(resta)\n",
    "#Resultado: 288000\n",
    "\n",
    "division = 288000/8\n",
    "print(division)\n",
    "#Resultado: 36000 = d\n",
    "\n",
    "multiplicacion = 3 * 360000\n",
    "print(multiplicacion)\n",
    "#Resultado : 108000\n",
    "\n",
    "resta= 1108000 - 108000\n",
    "print(f'El valor de arriendo de un mes es {resta} $')\n",
    "\n",
    "#1108000 = a_1 + 3 * 360000\n",
    "#1108000 = a_1 + 108000\n",
    "#a_1= 1000000\n",
    "\n",
    "# an= 1000000 + (n-1)*36000"
   ]
  },
  {
   "cell_type": "code",
   "execution_count": null,
   "metadata": {},
   "outputs": [
    {
     "name": "stdout",
     "output_type": "stream",
     "text": [
      "En el mes 24 tuvo un valor de 1828000 $\n"
     ]
    }
   ],
   "source": [
    "#7 parte 2\n",
    "a = []\n",
    "for i in range(50):\n",
    "    n = i + 1\n",
    "    a.append(1000000 + (n-1)*36000)\n",
    "print(f'En el mes {a.index(1828000)+1} tuvo un valor de 1828000 $')"
   ]
  },
  {
   "cell_type": "code",
   "execution_count": null,
   "metadata": {},
   "outputs": [
    {
     "name": "stdout",
     "output_type": "stream",
     "text": [
      "[[ 983200 1043800]\n",
      " [ 947400  965800]]\n"
     ]
    }
   ],
   "source": [
    "#8\n",
    "import numpy as np\n",
    "\n",
    "T = np.array([[300, 272, 240],\n",
    "              [260, 180, 324]])\n",
    "\n",
    "U = np.array([[1200, 1250],\n",
    "              [1100, 1400],\n",
    "              [1350, 1200]])\n",
    "\n",
    "#Multiplicación de matrices\n",
    "C = np.dot(T, U)\n",
    "print(C)\n",
    "\n",
    "#t22 = 965800\n"
   ]
  },
  {
   "cell_type": "code",
   "execution_count": null,
   "metadata": {},
   "outputs": [
    {
     "name": "stdout",
     "output_type": "stream",
     "text": [
      "[[431. 565. 373. 644.]\n",
      " [657. 560. 740. 511.]\n",
      " [401. 527. 762. 723.]]\n"
     ]
    }
   ],
   "source": [
    "#12\n",
    "import numpy as np\n",
    "\n",
    "S = np.array([[360, 280, 150, 420],\n",
    "             [450, 370, 210, 130],\n",
    "             [240, 260, 320, 340]])\n",
    "\n",
    "C = np.array([[130, 310, 230, 280],\n",
    "              [270, 240, 520, 370],\n",
    "              [190, 290, 460, 410]])\n",
    "\n",
    "t = 0.8*S + 1.1*C\n",
    "print(f\"{t}\")\n"
   ]
  },
  {
   "cell_type": "code",
   "execution_count": 21,
   "metadata": {},
   "outputs": [
    {
     "name": "stdout",
     "output_type": "stream",
     "text": [
      "[[ 540. 1080. 1620.]\n",
      " [ 660. 1320. 1980.]\n",
      " [ 780. 1560. 2340.]]\n"
     ]
    }
   ],
   "source": [
    "#13\n",
    "A = np.fromfunction(lambda i, j: 2*(i+1)+3*(j+1), (3,3))\n",
    "B = np.fromfunction(lambda i, j: 10*(i+1)*(j+1), (3,3))\n",
    "\n",
    "C = A@B\n",
    "print(C)"
   ]
  },
  {
   "cell_type": "code",
   "execution_count": 28,
   "metadata": {},
   "outputs": [
    {
     "name": "stdout",
     "output_type": "stream",
     "text": [
      "[[4.]\n",
      " [2.]]\n"
     ]
    }
   ],
   "source": [
    "#14\n",
    "import numpy as np\n",
    "\n",
    "A = np.array([[2,1],\n",
    "              [3,-2]])\n",
    "\n",
    "B = np.array([[10],\n",
    "              [8]])\n",
    "\n",
    "A_inv = np.linalg.inv(A)\n",
    "\n",
    "X = A_inv@B\n",
    "print(X)"
   ]
  },
  {
   "cell_type": "code",
   "execution_count": 32,
   "metadata": {},
   "outputs": [
    {
     "name": "stdout",
     "output_type": "stream",
     "text": [
      "[[4 4]\n",
      " [4 4]]\n"
     ]
    }
   ],
   "source": [
    "#15\n",
    "import numpy as np\n",
    "\n",
    "a = np.array([[2, 3],\n",
    "              [1, 2]])\n",
    "\n",
    "a_inv = np.linalg.inv(a)\n",
    "\n",
    "#16\n",
    "#print(a_inv)\n",
    "\n",
    "#17\n",
    "#print(a.T)\n",
    "\n",
    "#19\n",
    "suma = a + a.T\n",
    "print(suma)"
   ]
  },
  {
   "cell_type": "code",
   "execution_count": null,
   "metadata": {},
   "outputs": [
    {
     "name": "stdout",
     "output_type": "stream",
     "text": [
      "[[ 8.]\n",
      " [12.]]\n"
     ]
    }
   ],
   "source": [
    "#20\n",
    "import numpy as np\n",
    "\n",
    "A = np.array([[2, 3],\n",
    "              [1, 4]])\n",
    "\n",
    "B = np.array([[52],\n",
    "              [56]])\n",
    "\n",
    "A_inv = np.linalg.inv(A)\n",
    "\n",
    "X = A_inv@B\n",
    "print(X)"
   ]
  }
 ],
 "metadata": {
  "kernelspec": {
   "display_name": "Python 3",
   "language": "python",
   "name": "python3"
  },
  "language_info": {
   "codemirror_mode": {
    "name": "ipython",
    "version": 3
   },
   "file_extension": ".py",
   "mimetype": "text/x-python",
   "name": "python",
   "nbconvert_exporter": "python",
   "pygments_lexer": "ipython3",
   "version": "3.12.4"
  }
 },
 "nbformat": 4,
 "nbformat_minor": 2
}
