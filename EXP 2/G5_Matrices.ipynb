{
 "cells": [
  {
   "cell_type": "markdown",
   "metadata": {
    "id": "UCCOMbmnLfHY"
   },
   "source": [
    "# Problema 1"
   ]
  },
  {
   "cell_type": "markdown",
   "metadata": {
    "id": "AHPLM97ONSwR"
   },
   "source": [
    "Las matrices $A$ y $B$ representan las ventas en dos años, en millones de dólares, de los tres productos de una empresa en las cuatro regiones en que está disponible. Es decir, $a_{ij}$ y $b_{ij}$ representan el monto de las ventas del producto $i$ en la región $j$ el primer y segundo año, respectivamente:\n",
    "\n",
    "<br>\n",
    "\n",
    "\\begin{split}\n",
    "A = \\begin{pmatrix}\n",
    " 2,6 &  4,8 &  1,8 & 0,9 \\\\\n",
    " 3,2 &  4,4 &  2,5 & 2,8 \\\\\n",
    " 2,4 &  3,6 &  3,8 & 2,5 \\\\\n",
    "\\end{pmatrix} \\text{ } B= \\begin{pmatrix}\n",
    " 3,6 &  2,5 &  3,0 & 2,5 \\\\\n",
    " 4,5 &  5,0 &  3,5 & 3,8 \\\\\n",
    " 2,9 &  3,0 &  4,6 & 4,0 \\\\\n",
    "\\end{pmatrix}\n",
    "\\end{split}\n",
    "\n",
    "<br>\n",
    "\n",
    "1. Indique el orden de cada matriz.\n",
    "2. Calcule la matriz $S = A + B$.\n",
    "3. Calcule la matriz $D = B - A$.\n",
    "4. Indique el valor e interprete los elementos $s_{24}$ y $d_{24}$.\n",
    "5. Para el tercer año de funcionamiento, los tres productos ahora están disponibles en seis regiones. Durante este año, las ventas de esta empresa estarán registradas en una matriz $E$. ¿Es posible determinar la matriz $T = A + B + E$? Justifique su respuesta."
   ]
  },
  {
   "cell_type": "markdown",
   "metadata": {},
   "source": [
    "Desarrollo\n",
    "1.Orden de la matriz \n",
    "3X4"
   ]
  },
  {
   "cell_type": "code",
   "execution_count": null,
   "metadata": {},
   "outputs": [
    {
     "name": "stdout",
     "output_type": "stream",
     "text": [
      "[[6.2 7.3 4.8 3.4]\n",
      " [7.7 9.4 6.  6.6]\n",
      " [5.3 6.6 8.4 6.5]]\n"
     ]
    }
   ],
   "source": [
    "#pregunta 2\n",
    "#primero en cada variable asignamos una matriz, luego creamos otra varaible \"s\" y aquí asignamos la suma.\n",
    "import numpy as np\n",
    "A = np.array([[2.6, 4.8, 1.8, 0.9],\n",
    "[3.2, 4.4, 2.5, 2.8],\n",
    "[2.4, 3.6, 3.8, 2.5]])\n",
    "\n",
    "B = np.array([[3.6, 2.5, 3, 2.5],\n",
    "[4.5, 5, 3.5, 3.8],\n",
    "[2.9, 3.0, 4.6, 4]])\n",
    "\n",
    "S = A + B\n",
    "print(S)\n"
   ]
  },
  {
   "cell_type": "code",
   "execution_count": 2,
   "metadata": {},
   "outputs": [
    {
     "name": "stdout",
     "output_type": "stream",
     "text": [
      "[[ 1.  -2.3  1.2  1.6]\n",
      " [ 1.3  0.6  1.   1. ]\n",
      " [ 0.5 -0.6  0.8  1.5]]\n"
     ]
    }
   ],
   "source": [
    "#pregunta 3\n",
    "\n",
    "import numpy as np\n",
    "\n",
    "D= B - A\n",
    "\n",
    "print(D)"
   ]
  },
  {
   "cell_type": "code",
   "execution_count": 9,
   "metadata": {},
   "outputs": [
    {
     "name": "stdout",
     "output_type": "stream",
     "text": [
      "El valor en la posicion es 6.6\n",
      "La interpretacion es: El total de ventas del producto 2 en la region 4 es de: 6.6 millones de dolares\n",
      "La interpretacion es: El segundo año se vendio 1.0 millones de dolares mas del producto en la region 4\n"
     ]
    }
   ],
   "source": [
    "#pregunta 4\n",
    "\n",
    "print (f'El valor en la posicion es {S[1][3]}')\n",
    "print (f'La interpretacion es: El total de ventas del producto 2 en la region 4 es de: {S[1][3]} millones de dolares')\n",
    "\n",
    "print (f'La interpretacion es: El segundo año se vendio {D[1][3]} millones de dolares mas del producto en la region 4')"
   ]
  },
  {
   "cell_type": "markdown",
   "metadata": {},
   "source": [
    "pregunta 5\n",
    "\n",
    "son matrizes de distinto orden y no se pueden sumar "
   ]
  },
  {
   "cell_type": "markdown",
   "metadata": {
    "id": "MdVDj7xheCLm"
   },
   "source": [
    "# Problema 2"
   ]
  },
  {
   "cell_type": "markdown",
   "metadata": {
    "id": "CGrP79UpeM6k"
   },
   "source": [
    "Una fábrica con sucursales en Japón y China, produce tres tipos de componentes $j$, para cinco modelos de computador $i$. Los costos de producción mensual, en miles de dólares, de ambas sucursales se representan en las matrices $J$ y $C$, respectivamente:\n",
    "\n",
    "<br>\n",
    "\n",
    "\\begin{split}\n",
    "J = \\begin{pmatrix}\n",
    " 100 &  200 &  150  \\\\\n",
    " 120 &  210 &  170  \\\\\n",
    " 112 &  200 &  131  \\\\\n",
    " 124 &  310 &  170  \\\\\n",
    " 136 &  156 &  140  \\\\\n",
    "\\end{pmatrix} \\text{ } C = \\begin{pmatrix}\n",
    " 110 &  190 &  160  \\\\\n",
    " 130 &  220 &  180  \\\\\n",
    " 146 &  190 &  141  \\\\\n",
    " 143 &  312 &  163  \\\\\n",
    " 137 &  116 &  156  \\\\\n",
    "\\end{pmatrix}\n",
    "\\end{split}\n",
    "\n",
    "<br>\n",
    "\n",
    "1. ¿Cuál es el orden de las matrices?\n",
    "2. Inteprete el elemento $j_{21}$ y $c_{12}$ en el contexto del problema.\n",
    "3. Utilizando *Python*, calcule el costo total de producción para cada modelo, considerando ambas sucursales.\n",
    "4. Un trabajador indica que, en la sucursal japonesa, el costo de producción del producto $3$, modelo $4$ de computador, es más alto que en la sucursal china. ¿Tiene razón? Justifique apropiadamente."
   ]
  },
  {
   "cell_type": "markdown",
   "metadata": {},
   "source": [
    "pregunta 1\n",
    "\n",
    "c1 c2 c3 = componentes\n",
    "m1 m2 m3 m4 m5 = modelos de pc\n",
    "\n",
    "Numeros = miles de dolares\n"
   ]
  },
  {
   "cell_type": "code",
   "execution_count": null,
   "metadata": {},
   "outputs": [
    {
     "name": "stdout",
     "output_type": "stream",
     "text": [
      "El orden de la matriz J es (5, 3)\n",
      "El orden de la matriz C es (5, 3)\n"
     ]
    }
   ],
   "source": [
    "#pregunta 1\n",
    "\n",
    "import numpy as np\n",
    "\n",
    "J = np.array([[100, 200, 150],\n",
    "[120, 210, 170],\n",
    "[112, 200, 131],\n",
    "[124, 310, 170],\n",
    "[136, 156, 140]])\n",
    "\n",
    "C = np.array([[110, 190, 160],\n",
    "[130, 220, 180],\n",
    "[146, 190, 141],\n",
    "[143, 312, 163],\n",
    "[137, 116, 156]])\n",
    "\n",
    "#Orden de la Matriz\n",
    "\n",
    "print(f'El orden de la matriz J es {J.shape}')\n",
    "print(f'El orden de la matriz C es {C.shape}')"
   ]
  },
  {
   "cell_type": "code",
   "execution_count": 8,
   "metadata": {},
   "outputs": [
    {
     "name": "stdout",
     "output_type": "stream",
     "text": [
      "El elemento j_21 es 120\n",
      "El elemento C_12 es 200\n",
      "\n",
      "Interpretacion: Los costos asociados al modelo 2, componente 1 en japon es de 120 miles de dolares\n",
      "Interpretacion: Los costos asociados al modelo 1, componente 2 en china es de 200 miles de dolares\n"
     ]
    }
   ],
   "source": [
    "#pregunta 2\n",
    "\n",
    "#Inteprete el elemento $j_{21}$ y $c_{12}$ en el contexto del problema.\n",
    "\n",
    "print(f'El elemento j_21 es {J[1][0]}')\n",
    "print(f'El elemento C_12 es {J[0][1]}\\n')\n",
    "\n",
    "print(f'Interpretacion: Los costos asociados al modelo 2, componente 1 en japon es de {J[1][0]} miles de dolares')\n",
    "print(f'Interpretacion: Los costos asociados al modelo 1, componente 2 en china es de {J[0][1]} miles de dolares')"
   ]
  },
  {
   "cell_type": "code",
   "execution_count": 10,
   "metadata": {},
   "outputs": [
    {
     "name": "stdout",
     "output_type": "stream",
     "text": [
      "El costo total entre ambas sucursales es: \n",
      " [[210 390 310]\n",
      " [250 430 350]\n",
      " [258 390 272]\n",
      " [267 622 333]\n",
      " [273 272 296]] \n",
      "\n"
     ]
    }
   ],
   "source": [
    "#pregunta 3\n",
    "\n",
    "# 3. Utilizando *Python*, calcule el costo total de producción para cada modelo, considerando ambas sucursales.\n",
    "\n",
    "S = J + C\n",
    "print(f'El costo total entre ambas sucursales es: \\n {S} \\n')"
   ]
  },
  {
   "cell_type": "markdown",
   "metadata": {},
   "source": [
    "pregunta 4\n",
    "\n",
    "J43\n",
    "C43"
   ]
  },
  {
   "cell_type": "code",
   "execution_count": 14,
   "metadata": {},
   "outputs": [
    {
     "name": "stdout",
     "output_type": "stream",
     "text": [
      "La diferencia pedida es 7 miles de dolares, por lo que el trabajador tiene razon\n"
     ]
    }
   ],
   "source": [
    "#pregunta 4\n",
    "\n",
    "D = J - C\n",
    "print(f'La diferencia pedida es {D[3][2]} miles de dolares, por lo que el trabajador tiene razon')"
   ]
  },
  {
   "cell_type": "markdown",
   "metadata": {
    "id": "d1kLjxmU8En9"
   },
   "source": [
    "# Problema 3"
   ]
  },
  {
   "cell_type": "markdown",
   "metadata": {
    "id": "kpido2Zy8zg0"
   },
   "source": [
    "La empresa Beta tiene cinco plantas en Chile, y en cada una de ellas fabrica siete productos. El número de unidades del producto $i$ fabricadas en la planta $j$ en una semana está representado en la matriz $C$ en el elemento $c_{ij}$.\n",
    "\n",
    "<br>\n",
    "\n",
    "\\begin{split}\n",
    "C = \\begin{pmatrix}\n",
    " 120 &  200 &  155 &  125  &  230 \\\\\n",
    " 155 &  130 &  110 &  160  &  180 \\\\\n",
    " 140 &  205 &  150 &  125  &  155 \\\\\n",
    " 130 &  120 &  230 &  225  &  125 \\\\\n",
    " 135 &  70  &  190 &  175  &  95  \\\\\n",
    " 110 &  265 &  180 &  230  &  180 \\\\\n",
    " 185 &  85  &  120 &  135  &  150 \\\\\n",
    "\\end{pmatrix}\n",
    "\\end{split}\n",
    "\n",
    "<br>\n",
    "\n",
    "La empresa se expande, creando cinco plantas en Ecuador que producen los mismos siete productos. La producción semanal de esta filial estará representada por una matriz $E$.\n",
    "\n",
    "1. Si se sabe que los volúmenes de producción semanal de la filial en Ecuador son un $20\\%$ menor que en Chile, calcule la matriz $E$ utilizando *Python*.\n",
    "2. Si representamos la producción semanal total de la empresa Beta, considerando ambas filiales, por la matriz $T$, escriba la expresión que calcula cada elemento de la matriz $T$ usando notación matricial.\n",
    "3. Calcule la matriz $T$ utilizando *Python*.\n",
    "4. Interprete los elementos $c_{34}$ y $t_{72}$ en el contexto del problema."
   ]
  },
  {
   "cell_type": "code",
   "execution_count": 6,
   "metadata": {},
   "outputs": [
    {
     "name": "stdout",
     "output_type": "stream",
     "text": [
      "\n",
      " 1. La matriz correspondiente a Ecuador es: \n",
      "[[ 96. 160. 124. 100. 184.]\n",
      " [124. 104.  88. 128. 144.]\n",
      " [112. 164. 120. 100. 124.]\n",
      " [104.  96. 184. 180. 100.]\n",
      " [108.  56. 152. 140.  76.]\n",
      " [ 88. 212. 144. 184. 144.]\n",
      " [148.  68.  96. 108. 120.]]\n",
      "\n",
      " 2. La expresion correspondiente es t_ij = c_ij + e_ij\n",
      "\n",
      " 3. La matriz correspondiente a la suma es \n",
      "[[216. 360. 279. 225. 414.]\n",
      " [279. 234. 198. 288. 324.]\n",
      " [252. 369. 270. 225. 279.]\n",
      " [234. 216. 414. 405. 225.]\n",
      " [243. 126. 342. 315. 171.]\n",
      " [198. 477. 324. 414. 324.]\n",
      " [333. 153. 216. 243. 270.]]\n",
      "\n",
      " 4. La cantidad de unidades del producto 3 fabricadas en la planta 4 en Chile es 125 unidades\n"
     ]
    },
    {
     "data": {
      "text/plain": [
       "np.float64(153.0)"
      ]
     },
     "execution_count": 6,
     "metadata": {},
     "output_type": "execute_result"
    }
   ],
   "source": [
    "import numpy as np\n",
    "C = np.array([[120, 200, 155, 125,230],\n",
    "[155, 130, 110, 160, 180],\n",
    "[140, 205, 150, 125, 155],\n",
    "[130, 120, 230, 225, 125],\n",
    "[135, 70, 190, 175, 95],\n",
    "[110, 265, 180, 230, 180],\n",
    "[185, 85, 120, 135, 150]])\n",
    "\n",
    "#pregunta 1\n",
    "E = 0.8*C\n",
    "print(f'\\n 1. La matriz correspondiente a Ecuador es: \\n{E}')\n",
    "\n",
    "#pregunta 2\n",
    "# La expresion matricial\n",
    "\n",
    "print(f'\\n 2. La expresion correspondiente es t_ij = c_ij + e_ij')\n",
    "\n",
    "#3 sumar\n",
    "\n",
    "T = C + E\n",
    "print(f'\\n 3. La matriz correspondiente a la suma es \\n{T}')\n",
    "\n",
    "#4\n",
    "\n",
    "print(f'\\n 4. La cantidad de unidades del producto 3 fabricadas en la planta 4 en Chile es {C[2][3]} unidades')\n",
    "T[6][1]"
   ]
  },
  {
   "cell_type": "markdown",
   "metadata": {
    "id": "DZh7JytTJKsb"
   },
   "source": [
    "# Problema 4"
   ]
  },
  {
   "cell_type": "markdown",
   "metadata": {
    "id": "biNp7JeIJU2I"
   },
   "source": [
    "Una empresa que fabrica zapatos tiene dos plantas, una en Valparaíso y la otra en Temuco. La empresa produce zapatos de color negro, blanco y café, tanto para niños, damas como caballeros. La capacidad actual de producción mensual (en miles de pares) para Valparaíso y Temuco, están dadas por las matrices $V$ y $T$, respectivamente. Para ambas matrices, según el orden en que se mencionan, las filas corresponden al color del calzado y las columnas al tipo de persona que utilizará el calzado.\n",
    "\n",
    "<br>\n",
    "\n",
    "\\begin{split}\n",
    "V = \\begin{pmatrix}\n",
    " 30 &  34 &  20  \\\\\n",
    " 45 &  20 &  16  \\\\\n",
    " 14 &  26 &  25  \\\\\n",
    "\\end{pmatrix} \\text{ } T = \\begin{pmatrix}\n",
    " 35 &  30 &  26  \\\\\n",
    " 52 &  25 &  18  \\\\\n",
    " 23 &  24 &  32  \\\\\n",
    "\\end{pmatrix}\n",
    "\\end{split}\n",
    "\n",
    "<br>\n",
    "\n",
    "1. Determine la producción mensual total de ambas plantas, representándola en una matriz $A$. Utilice *Python* para resolver.\n",
    "2. Interprete el elemento $a_{21}$ en el contexto del problema.\n",
    "3. Si para el próximo año se estima que la producción en Valparaíso aumenta en un $30\\%$, mientras que la de Temuco se reduce en un $10\\%$, represente la nueva producción total en la matriz $B$.\n",
    "4. Interprete el elemento $b_{13}$ en el contexto del problema."
   ]
  },
  {
   "cell_type": "code",
   "execution_count": 33,
   "metadata": {},
   "outputs": [
    {
     "name": "stdout",
     "output_type": "stream",
     "text": [
      "\n",
      " 1. La produccion mensual para ambas plantas corresponde al \n",
      "[[65 64 46]\n",
      " [97 45 34]\n",
      " [37 50 57]]\n",
      "\n",
      " 2. La produccion de zapatos blancos para niños es de 97 miles de pares\n",
      "\n",
      "\n",
      " 3. La nueva matriz es \n",
      " [[ 70.5  71.2  49.4]\n",
      " [105.3  48.5  37. ]\n",
      " [ 38.9  55.4  61.3]]\n",
      "\n",
      "\n",
      " 4. Para el proximo año se estima la produccion de zapatos negros para caballeros es de 49.4 miles de pares\n",
      "\n"
     ]
    }
   ],
   "source": [
    "import numpy as np\n",
    "\n",
    "V = np.array([[30, 34, 20],\n",
    "[45, 20, 16],\n",
    "[14, 26, 25]])\n",
    "\n",
    "T = np.array([[35, 30, 26],\n",
    "[52, 25, 18],\n",
    "[23, 24, 32]])\n",
    "\n",
    "#pregunta 1 sumar\n",
    "A = V + T\n",
    "print(f'\\n 1. La produccion mensual para ambas plantas corresponde al \\n{A}')\n",
    "\n",
    "#pregunta 2: Interprete el elemento $a_{21}$ en el contexto del problema.\n",
    "print(f'\\n 2. La produccion de zapatos blancos para niños es de {A[1][0]} miles de pares\\n')\n",
    "\n",
    "#3\n",
    "\n",
    "B = 1.3*V + 0.9*T\n",
    "print(f'\\n 3. La nueva matriz es \\n {B}\\n')\n",
    "\n",
    "#4\n",
    "\n",
    "print(f'\\n 4. Para el proximo año se estima la produccion de zapatos negros para caballeros es de {B[0][2]:.1f} miles de pares\\n')"
   ]
  },
  {
   "cell_type": "markdown",
   "metadata": {
    "id": "eqY0UgBhQ1PL"
   },
   "source": [
    "# Problema 5"
   ]
  },
  {
   "cell_type": "markdown",
   "metadata": {
    "id": "6W2fcVlyU2Ze"
   },
   "source": [
    "Genere una matriz $M$ de orden $8 \\times 9$ donde cada término de la matriz está definido por:\n",
    "\n",
    "$$m_{ij} = 8i + 12j$$\n",
    "\n",
    "y calcule su transpuesta."
   ]
  },
  {
   "cell_type": "code",
   "execution_count": 37,
   "metadata": {},
   "outputs": [
    {
     "name": "stdout",
     "output_type": "stream",
     "text": [
      "1. La matriz buscada es \n",
      "[[ 20.  32.  44.  56.  68.  80.  92. 104. 116.]\n",
      " [ 28.  40.  52.  64.  76.  88. 100. 112. 124.]\n",
      " [ 36.  48.  60.  72.  84.  96. 108. 120. 132.]\n",
      " [ 44.  56.  68.  80.  92. 104. 116. 128. 140.]\n",
      " [ 52.  64.  76.  88. 100. 112. 124. 136. 148.]\n",
      " [ 60.  72.  84.  96. 108. 120. 132. 144. 156.]\n",
      " [ 68.  80.  92. 104. 116. 128. 140. 152. 164.]\n",
      " [ 76.  88. 100. 112. 124. 136. 148. 160. 172.]]\n",
      "\n",
      "2. La matriz transpuesta buscada es: \n",
      "[[ 20.  28.  36.  44.  52.  60.  68.  76.]\n",
      " [ 32.  40.  48.  56.  64.  72.  80.  88.]\n",
      " [ 44.  52.  60.  68.  76.  84.  92. 100.]\n",
      " [ 56.  64.  72.  80.  88.  96. 104. 112.]\n",
      " [ 68.  76.  84.  92. 100. 108. 116. 124.]\n",
      " [ 80.  88.  96. 104. 112. 120. 128. 136.]\n",
      " [ 92. 100. 108. 116. 124. 132. 140. 148.]\n",
      " [104. 112. 120. 128. 136. 144. 152. 160.]\n",
      " [116. 124. 132. 140. 148. 156. 164. 172.]]\n",
      "\n"
     ]
    }
   ],
   "source": [
    "import numpy as np\n",
    "\n",
    "M = np.fromfunction(lambda i, j: 8*(i+1) + 12*(j+1), (8,9))\n",
    "print(f'1. La matriz buscada es \\n{M}\\n')\n",
    "\n",
    "#matriz transpuesta\n",
    "print(f'2. La matriz transpuesta buscada es: \\n{M.T}\\n')"
   ]
  },
  {
   "cell_type": "markdown",
   "metadata": {
    "id": "GzG5888JV5Yc"
   },
   "source": [
    "# Problema 6"
   ]
  },
  {
   "cell_type": "markdown",
   "metadata": {
    "id": "dHbVKHuLV71S"
   },
   "source": [
    "Genere dos matrices:\n",
    "\n",
    "*   Una matriz $A$ de orden $5 \\times 7$, con $a_{ij} = i \\cdot j.$\n",
    "*   Una matriz $B$ de orden $7 \\times 5$, con $b_{ij} = 15i - 2j.$\n",
    "\n",
    "y calcule $C = A^{T} + \\dfrac{1}{2}B$.\n",
    "\n"
   ]
  },
  {
   "cell_type": "code",
   "execution_count": 46,
   "metadata": {},
   "outputs": [
    {
     "name": "stdout",
     "output_type": "stream",
     "text": [
      "La matriz A es: \n",
      "[[ 1.  2.  3.  4.  5.  6.  7.]\n",
      " [ 2.  4.  6.  8. 10. 12. 14.]\n",
      " [ 3.  6.  9. 12. 15. 18. 21.]\n",
      " [ 4.  8. 12. 16. 20. 24. 28.]\n",
      " [ 5. 10. 15. 20. 25. 30. 35.]]\n",
      "\n",
      "La matriz B es: \n",
      "[[ 13.  11.   9.   7.   5.]\n",
      " [ 28.  26.  24.  22.  20.]\n",
      " [ 43.  41.  39.  37.  35.]\n",
      " [ 58.  56.  54.  52.  50.]\n",
      " [ 73.  71.  69.  67.  65.]\n",
      " [ 88.  86.  84.  82.  80.]\n",
      " [103. 101.  99.  97.  95.]]\n",
      "\n",
      "La transpuesta de C es: \n",
      "[[ 7.5  7.5  7.5  7.5  7.5]\n",
      " [16.  17.  18.  19.  20. ]\n",
      " [24.5 26.5 28.5 30.5 32.5]\n",
      " [33.  36.  39.  42.  45. ]\n",
      " [41.5 45.5 49.5 53.5 57.5]\n",
      " [50.  55.  60.  65.  70. ]\n",
      " [58.5 64.5 70.5 76.5 82.5]]\n",
      "\n"
     ]
    }
   ],
   "source": [
    "import numpy as np\n",
    "\n",
    "A= np.fromfunction(lambda i, j: (i+1) * (j+1), (5,7))\n",
    "print(f'La matriz A es: \\n{A}\\n')\n",
    "\n",
    "B= np.fromfunction(lambda i, j: 15*(i+1)  - 2*(j+1), (7,5))\n",
    "print(f'La matriz B es: \\n{B}\\n')\n",
    "\n",
    "C = A.T + 0.5*B\n",
    "print(f'La transpuesta de C es: \\n{C}\\n')"
   ]
  },
  {
   "cell_type": "markdown",
   "metadata": {
    "id": "HZJfudDGXjic"
   },
   "source": [
    "# Problema 7"
   ]
  },
  {
   "cell_type": "markdown",
   "metadata": {
    "id": "Z-C9zGeKYQ11"
   },
   "source": [
    "Una red de sensores recoge datos de temperatura ($°C$), humedad (porcentaje) y presión (hPa) en cinco días distintos (de lunes a viernes). Los datos medidos se muestran en la matriz $D$:\n",
    "\n",
    "<br>\n",
    "\n",
    "\\begin{equation*}\n",
    "\\begin{matrix}\n",
    "& \\begin{matrix}\n",
    " & Lu  \\ \\ &Ma \\ \\ &Mi \\ \\ & Ju \\ \\ &Vi\n",
    "\\end{matrix} \\\\\n",
    "&D = \\begin{pmatrix}\n",
    "20    &  28    &  22    &  26     &  24   \\\\\n",
    "52    &  57    &  56    &  54     &  58   \\\\\n",
    "1.066 &  1.068 &  1.066 &  1.064  &  1.068 \\\\\n",
    "\\end{pmatrix} & \\ \\begin{matrix}\n",
    "Cº\\\\\n",
    "\\% \\\\\n",
    "hPa\n",
    "\\end{matrix}\\\\\n",
    "\\end{matrix}\n",
    "\\end{equation*}\n",
    "\n",
    "<br>\n",
    "\n",
    "Se sabe que por un error de calibración de los sensores, las medidas registradas deberían ser un $5\\%$ menores que las registradas.\n",
    "\n",
    "1. Calcule en una matriz $S$ los valores correctos de temperatura, humedad y presión. Utilice *Python* para calcular.\n",
    "2. Obtenga la matriz $S^{T}$.\n",
    "3. Interprete los elementos $s_{24}$ y $s_{31}^{T}$.\n"
   ]
  },
  {
   "cell_type": "markdown",
   "metadata": {},
   "source": [
    "°C, %, hp \n",
    "Lu, Ma, Mi, Ju, Vi"
   ]
  },
  {
   "cell_type": "code",
   "execution_count": 50,
   "metadata": {},
   "outputs": [
    {
     "name": "stdout",
     "output_type": "stream",
     "text": [
      "La nueva matriz es: \n",
      "[[  19.     26.6    20.9    24.7    22.8 ]\n",
      " [  49.4    54.15   53.2    51.3    55.1 ]\n",
      " [1012.7  1014.6  1012.7  1010.8  1014.6 ]]\n",
      "\n",
      "La nueva matriz es \n",
      "[[  19.     49.4  1012.7 ]\n",
      " [  26.6    54.15 1014.6 ]\n",
      " [  20.9    53.2  1012.7 ]\n",
      " [  24.7    51.3  1010.8 ]\n",
      " [  22.8    55.1  1014.6 ]]\n",
      "\n",
      "El porcentaje de humedad registrado el dia jueves es de 51.3%\n",
      "La Temperatura  registrada el dia miercoles es de 20.9°C\n"
     ]
    }
   ],
   "source": [
    "import numpy as np\n",
    "\n",
    "D = np.array([[20, 28, 22, 26, 24],\n",
    "[52, 57, 56, 54, 58],\n",
    "[1066, 1068, 1066, 1064, 1068]])\n",
    "\n",
    "#1\n",
    "\n",
    "S = 0.95*D\n",
    "print(f'La nueva matriz es: \\n{S}\\n')\n",
    "\n",
    "#2 Matriz transpuerta\n",
    "print(f'La nueva matriz es \\n{S.T}\\n')\n",
    "\n",
    "#3\n",
    "print(f'El porcentaje de humedad registrado el dia jueves es de {S[1][3]}%')\n",
    "print(f'La Temperatura  registrada el dia miercoles es de {S.T[2][0]}°C')"
   ]
  },
  {
   "cell_type": "markdown",
   "metadata": {
    "id": "9py029xQlSq6"
   },
   "source": [
    "# Problema 8"
   ]
  },
  {
   "cell_type": "markdown",
   "metadata": {
    "id": "icNvmShQmtrx"
   },
   "source": [
    "Una empresa tecnológica vende software y hardware en tres productos: $P_{1}$, $P_{2}$ y $P_{3}$, en cuatro zonas de la capital: norte, sur, este y oeste. Las ventas del mes, en millones de pesos, están registradas en las matrices $S$ y $H$, para software y hardware respectivamente.\n",
    "\n",
    "<br>\n",
    "\n",
    "\\begin{split}\n",
    "S = \\begin{pmatrix}\n",
    " 260 &  480 &  180  &  90  \\\\\n",
    " 320 &  440 &  250  &  280 \\\\\n",
    " 240 &  360 &  380  &  250  \\\\\n",
    "\\end{pmatrix} \\text{ } H = \\begin{pmatrix}\n",
    " 360 &  250 &  300  &  250  \\\\\n",
    " 450 &  500 &  350  &  380 \\\\\n",
    " 290 &  300 &  460  &  400  \\\\\n",
    "\\end{pmatrix}\n",
    "\\end{split}\n",
    "\n",
    "<br>\n",
    "\n",
    "1. Calcule en la matriz $T$, del total de ventas de la empresa tecnológica.\n",
    "2. Un trabajador indica que este mes, la sucursal de la zona sur recaudó más por la venta hardware que software, ¿es correcta su afirmación?\n",
    "3. Debido al black friday se espera que el siguiente mes, las ventas de software aumenten un $7\\%$ y las de hardware aumenten un $3\\%$ respecto al mes actual. Encuentra en total de ventas esperadas para el siguiente mes y almacénalo en la matriz $M$. Utiliza *Python* para realizar los cálculos.\n",
    "4. Interpreta los elementos $t_{24}$ y $m_{31}$ en el contexto del problema.\n",
    "5. Calcula la matriz $M^{T}$ e interpreta el elemento $m_{41}^{T}$ en el contexto del problema.\n"
   ]
  }
 ],
 "metadata": {
  "colab": {
   "provenance": [],
   "toc_visible": true
  },
  "kernelspec": {
   "display_name": "Python 3",
   "name": "python3"
  },
  "language_info": {
   "codemirror_mode": {
    "name": "ipython",
    "version": 3
   },
   "file_extension": ".py",
   "mimetype": "text/x-python",
   "name": "python",
   "nbconvert_exporter": "python",
   "pygments_lexer": "ipython3",
   "version": "3.12.4"
  }
 },
 "nbformat": 4,
 "nbformat_minor": 0
}
