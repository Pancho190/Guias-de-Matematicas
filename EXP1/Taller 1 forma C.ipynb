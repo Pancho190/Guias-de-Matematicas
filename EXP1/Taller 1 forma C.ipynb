{
 "cells": [
  {
   "cell_type": "markdown",
   "metadata": {},
   "source": [
    "# Lluvias torrenciales, un desafío para las ciudades — ¿podrás evitar el diluvio?"
   ]
  },
  {
   "cell_type": "markdown",
   "metadata": {},
   "source": [
    "## Instrucciones\n",
    "\n",
    "1. Lea detenidamente el enunciado y las preguntas.\n",
    "2. Escriba sus desarrollos a continuación de la celda que dice “Desarrollo”.\n",
    "3. Sus respuestas deben estar justificadas y su desarrollo debe ser ordenado y claro.\n",
    "4. Se sugiere usar una celda de texto (markdown) con el número de la pregunta, una o más celdas de código para el desarrollo y luego una celda de texto (markdown) para escribir la respuesta.\n",
    "5. Guarde su progreso antes de cerrar el programa."
   ]
  },
  {
   "cell_type": "markdown",
   "metadata": {},
   "source": [
    "## Enunciado"
   ]
  },
  {
   "cell_type": "markdown",
   "metadata": {},
   "source": [
    "En época invernal, es común que algunas ciudades experimenten lluvias intensas, lo que puede poner a prueba su infraestructura. Este año, ciudades como Valparaíso, Santiago y Concepción han registrado precipitaciones que requieren atención especial.\n",
    "\n",
    "\n",
    "Podemos representar la cantidad de agua acumulada en un día, en milímetros (mm), en cada ciudad con respecto al tiempo transcurrido en horas (t) a través de las siguientes funciones cuadráticas:\n",
    "\n",
    "**Valparaíso**: $$V(t)=0,9t^{2}+12,5t+36$$\n",
    "\n",
    "**Santiago**: $$S(t) =0,95t^{2}+16,8t+31$$\n",
    "\n",
    "**Concepción**: $$C(t) = 1,1t^{2}+19,4t+26$$\n",
    "\n",
    "Se sabe que los sistemas de alcantarillado de las ciudades no pueden acumular más de 100 mm de agua en un periodo de 4 horas. Si se supera este umbral, será necesario enviar equipos de emergencia para evitar inundaciones.\n",
    "\n",
    "Con ayuda de Python responde las siguientes preguntas:\n",
    "\n",
    "1. ¿Cuál sería la cantidad de agua acumulada en cada una de las ciudades al cabo de 40 minutos?\n",
    "1. Grafique las funciones respectivas.\n",
    "1. Si la lluvia comenzó en Valparaíso a las 16:45 horas, en Santiago a las 17:45 horas y en Concepción a las 18:15 horas, ¿cuál será el total de agua caída a las 20:00 horas en cada ciudad?\n",
    "1. ¿Después de cuánto tiempo cada ciudad requerirá por primera vez de la ayuda de los equipos de emergencia?\n",
    "1. Se espera que la lluvia dure 12 horas ininterrumpidas. Para gestionar posibles emergencias, se dispondrá de dos equipos de intervención:\n",
    "   - El primer equipo trabajará durante las primeras 6 horas de lluvia.\n",
    "   - El segundo equipo tomará el relevo durante las últimas 6 horas.\n",
    "\n",
    "   Basándote en el comportamiento de la acumulación de agua en las ciudades de Valparaíso, Santiago y Concepción. Analiza cómo cambia la acumulación de agua en cada ciudad a lo largo del día. ¿Cuál equipo tendrá que ir a revisar el alcantarillado con mayor frecuencia debido a la acumulación de agua? Justifica tu respuesta considerando la forma de las funciones que describen la acumulación de agua."
   ]
  },
  {
   "cell_type": "markdown",
   "metadata": {},
   "source": [
    "## Desarrollo"
   ]
  },
  {
   "cell_type": "code",
   "execution_count": null,
   "metadata": {},
   "outputs": [],
   "source": [
    "#Definir Funciones\n",
    "\n",
    "def V(t):\n",
    "    return 0.9*t**2 + 12.5*t + 36\n",
    "\n",
    "def S(t):\n",
    "    return 0.95*t**2 + 16.8*t + 31\n",
    "\n",
    "def C(t):\n",
    "    return 1.1*t**2 + 19.4*t + 26\n"
   ]
  },
  {
   "cell_type": "code",
   "execution_count": null,
   "metadata": {},
   "outputs": [],
   "source": [
    "import numpy as np\n",
    "import matplotlib.pyplot as plt\n",
    "from scipy.optimize import fsolve\n",
    "\n",
    "\n",
    "def V(t):\n",
    "    return 0.9*t**2 + 12.5*t + 36\n",
    "\n",
    "x = np.arange(0,100,1)\n",
    "\n",
    "plt.title('Nombre del gráfico')\n",
    "plt.xlim()\n",
    "plt.ylim()\n",
    "plt.ylabel('Nombre eje y')\n",
    "plt.xlabel('Nombre eje x')\n",
    "plt.legend()\n",
    "plt.show()"
   ]
  }
 ],
 "metadata": {
  "kernelspec": {
   "display_name": "Python 3",
   "language": "python",
   "name": "python3"
  },
  "language_info": {
   "codemirror_mode": {
    "name": "ipython",
    "version": 3
   },
   "file_extension": ".py",
   "mimetype": "text/x-python",
   "name": "python",
   "nbconvert_exporter": "python",
   "pygments_lexer": "ipython3",
   "version": "3.12.4"
  }
 },
 "nbformat": 4,
 "nbformat_minor": 2
}
