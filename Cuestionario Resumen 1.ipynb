{
 "cells": [
  {
   "cell_type": "code",
   "execution_count": null,
   "metadata": {},
   "outputs": [
    {
     "name": "stdout",
     "output_type": "stream",
     "text": [
      "308\n"
     ]
    }
   ],
   "source": [
    "#3 \n",
    "\n",
    "import numpy as np\n",
    "from scipy.optimize import fsolve\n",
    "\n",
    "def T(n):\n",
    "    return 3*n + 5\n",
    "\n",
    "print(T(101))"
   ]
  },
  {
   "cell_type": "code",
   "execution_count": 4,
   "metadata": {},
   "outputs": [
    {
     "name": "stdout",
     "output_type": "stream",
     "text": [
      "La funcion buscada es f(x) = 20x y 100\n"
     ]
    }
   ],
   "source": [
    "#5\n",
    "\n",
    "x = np.array([5, 10, 15, 20])\n",
    "y = np.array([200, 300, 400, 500])\n",
    "\n",
    "pendiente, intercepto = np.polyfit(x, y, 1)\n",
    "\n",
    "print(f'La funcion buscada es f(x) = {pendiente:.0f}x y {intercepto:.0f}')"
   ]
  },
  {
   "cell_type": "code",
   "execution_count": 5,
   "metadata": {},
   "outputs": [
    {
     "name": "stdout",
     "output_type": "stream",
     "text": [
      "3320.116922736548\n"
     ]
    }
   ],
   "source": [
    "#6\n",
    "\n",
    "def U(t):\n",
    "    return 1000*np.exp(0.1*t)\n",
    "\n",
    "print(U(12))"
   ]
  },
  {
   "cell_type": "code",
   "execution_count": 7,
   "metadata": {},
   "outputs": [
    {
     "name": "stdout",
     "output_type": "stream",
     "text": [
      "[12.62925314]\n"
     ]
    }
   ],
   "source": [
    "#7\n",
    "\n",
    "def D(t):\n",
    "    return 2*1.2**t -20\n",
    "\n",
    "xo = np.linspace(0,20,1)\n",
    "solucion = fsolve(D, xo)\n",
    "\n",
    "print(solucion)"
   ]
  },
  {
   "cell_type": "code",
   "execution_count": 10,
   "metadata": {},
   "outputs": [
    {
     "name": "stdout",
     "output_type": "stream",
     "text": [
      "El término 36 es 5.6\n"
     ]
    }
   ],
   "source": [
    "#8\n",
    "\n",
    "import numpy as np\n",
    "\n",
    "sucesion = []\n",
    "for i in range(36):\n",
    "    n = i + 1\n",
    "    sucesion.append(2.1 +(n-1)*0.1)\n",
    "print(f'El término {n} es {sucesion[i]}')\n"
   ]
  },
  {
   "cell_type": "code",
   "execution_count": 13,
   "metadata": {},
   "outputs": [
    {
     "name": "stdout",
     "output_type": "stream",
     "text": [
      "El término 5 es 615\n"
     ]
    }
   ],
   "source": [
    "#9\n",
    "\n",
    "sucesion = []\n",
    "for i in range(5):\n",
    "    n = i + 1\n",
    "    sucesion.append(5*n**3 - 2*n)\n",
    "print(f'El término {n} es {sucesion[i]}')"
   ]
  },
  {
   "cell_type": "code",
   "execution_count": 14,
   "metadata": {},
   "outputs": [
    {
     "name": "stdout",
     "output_type": "stream",
     "text": [
      "El término 25 es 1120\n"
     ]
    }
   ],
   "source": [
    "#10\n",
    "\n",
    "sucesion = []\n",
    "for i in range(25):\n",
    "    n = i + 1\n",
    "    sucesion.append(1000 + (n-1)* 5)\n",
    "print(f'El término {n} es {sucesion[i]}')"
   ]
  },
  {
   "cell_type": "code",
   "execution_count": 15,
   "metadata": {},
   "outputs": [
    {
     "name": "stdout",
     "output_type": "stream",
     "text": [
      "El término 9 es 768\n"
     ]
    }
   ],
   "source": [
    "#11\n",
    "\n",
    "import numpy as np\n",
    "\n",
    "sucesion = []\n",
    "for i in range(9):\n",
    "    n = i + 1\n",
    "    sucesion.append(3*2**(n-1))\n",
    "print(f'El término {n} es {sucesion[i]}')"
   ]
  },
  {
   "cell_type": "code",
   "execution_count": 21,
   "metadata": {},
   "outputs": [
    {
     "name": "stdout",
     "output_type": "stream",
     "text": [
      "[[1.2 8.4]\n",
      " [4.8 7.2]\n",
      " [7.2 6. ]]\n",
      "[[ 5 13]\n",
      " [12 11]\n",
      " [ 8 12]]\n"
     ]
    }
   ],
   "source": [
    "#16\n",
    "\n",
    "import numpy as np\n",
    "\n",
    "A = np.array(([4, 6],\n",
    "              [8, 5],\n",
    "              [2, 7]))\n",
    "\n",
    "B = np.array(([1, 7],\n",
    "              [4, 6],\n",
    "              [6, 5]))\n",
    "\n",
    "C = 1.2*B\n",
    "print(C)\n",
    "\n",
    "#17\n",
    "\n",
    "S = A + B\n",
    "print(S)"
   ]
  },
  {
   "cell_type": "code",
   "execution_count": 24,
   "metadata": {},
   "outputs": [
    {
     "name": "stdout",
     "output_type": "stream",
     "text": [
      "272800.0\n"
     ]
    }
   ],
   "source": [
    "#19\n",
    "\n",
    "A = np.fromfunction(lambda i, j: 20*(i+1) * (j+1), (15,10))\n",
    "E = np.fromfunction(lambda i, j: 4 *(i+1) + (j+1), (10,5))\n",
    "\n",
    "M = A@E\n",
    "print(M[7][2])"
   ]
  },
  {
   "cell_type": "code",
   "execution_count": 25,
   "metadata": {},
   "outputs": [
    {
     "name": "stdout",
     "output_type": "stream",
     "text": [
      "[[14.]\n",
      " [ 2.]]\n"
     ]
    }
   ],
   "source": [
    "#20\n",
    "\n",
    "import numpy as np\n",
    "\n",
    "A = np.array(([4, 8],\n",
    "              [2, 6]))\n",
    "\n",
    "B = np.array(([72],\n",
    "              [40]))\n",
    "\n",
    "A_inv = np.linalg.inv(A)\n",
    "\n",
    "X = A_inv@B\n",
    "print(X)"
   ]
  }
 ],
 "metadata": {
  "kernelspec": {
   "display_name": "Python 3",
   "language": "python",
   "name": "python3"
  },
  "language_info": {
   "codemirror_mode": {
    "name": "ipython",
    "version": 3
   },
   "file_extension": ".py",
   "mimetype": "text/x-python",
   "name": "python",
   "nbconvert_exporter": "python",
   "pygments_lexer": "ipython3",
   "version": "3.12.4"
  }
 },
 "nbformat": 4,
 "nbformat_minor": 2
}
