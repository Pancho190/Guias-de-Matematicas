{
 "cells": [
  {
   "cell_type": "code",
   "execution_count": 1,
   "metadata": {},
   "outputs": [
    {
     "name": "stdout",
     "output_type": "stream",
     "text": [
      "[[1.2 8.4]\n",
      " [4.8 7.2]\n",
      " [7.2 6. ]]\n"
     ]
    }
   ],
   "source": [
    "#17\n",
    "\n",
    "import numpy as np\n",
    "\n",
    "A = np.array(([4, 6],\n",
    "              [8, 5],\n",
    "              [2, 7]))\n",
    "\n",
    "B = np.array(([1, 7],\n",
    "              [4, 6],\n",
    "              [6, 5]))\n",
    "\n",
    "C = 1.2*B\n",
    "print(C)\n",
    "\n",
    "#S = A + B\n",
    "#print({S[1][0]})"
   ]
  },
  {
   "cell_type": "code",
   "execution_count": 46,
   "metadata": {},
   "outputs": [
    {
     "name": "stdout",
     "output_type": "stream",
     "text": [
      "272800.0\n"
     ]
    }
   ],
   "source": [
    "#19\n",
    "\n",
    "import numpy as np\n",
    "\n",
    "A = np.fromfunction(lambda i, j: 20*(i+1) * (j+1), (15,10))\n",
    "E = np.fromfunction(lambda i, j: 4*(i+1) + (j+1), (10,5))\n",
    "\n",
    "M = A@E\n",
    "print(M[7][2])"
   ]
  },
  {
   "cell_type": "code",
   "execution_count": 27,
   "metadata": {},
   "outputs": [
    {
     "name": "stdout",
     "output_type": "stream",
     "text": [
      "[[14.]\n",
      " [ 2.]]\n"
     ]
    }
   ],
   "source": [
    "import numpy as np\n",
    "\n",
    "A = np.array([[4, 8],\n",
    "              [2, 6]])\n",
    "\n",
    "B = np.array(([72],\n",
    "              [40]))\n",
    "\n",
    "A_inv = np.linalg.inv(A)\n",
    "\n",
    "X = A_inv@B\n",
    "print(X)"
   ]
  },
  {
   "cell_type": "code",
   "execution_count": null,
   "metadata": {},
   "outputs": [
    {
     "name": "stdout",
     "output_type": "stream",
     "text": [
      "[70.]\n"
     ]
    }
   ],
   "source": [
    "import numpy as np\n",
    "import matplotlib.pyplot as plt\n",
    "from scipy.optimize import fsolve\n",
    "\n",
    "def t(a):\n",
    "    return 3*a+5-215\n",
    "\n",
    "xo = np.linspace(0, 308,1)\n",
    "solucion = fsolve(t, xo)\n",
    "print(solucion)"
   ]
  },
  {
   "cell_type": "markdown",
   "metadata": {},
   "source": [
    "3 milisegundos"
   ]
  },
  {
   "cell_type": "code",
   "execution_count": 5,
   "metadata": {},
   "outputs": [
    {
     "name": "stdout",
     "output_type": "stream",
     "text": [
      "La funcion buscada es f(x) = 20x + 100\n"
     ]
    }
   ],
   "source": [
    "import numpy as np\n",
    "import matplotlib.pyplot as plt\n",
    "from scipy.optimize import fsolve\n",
    "\n",
    "x = np.array([5, 10, 15, 20])\n",
    "y = np.array([200, 300, 400, 500])\n",
    "\n",
    "pendiente, intercepto = np.polyfit(x, y, 1)\n",
    "\n",
    "print(f'La funcion buscada es f(x) = {pendiente:.0f}x + {intercepto:.0f}')\n"
   ]
  },
  {
   "cell_type": "code",
   "execution_count": null,
   "metadata": {},
   "outputs": [
    {
     "name": "stdout",
     "output_type": "stream",
     "text": [
      "3320.116922736548\n"
     ]
    }
   ],
   "source": [
    "import numpy as np\n",
    "from scipy.optimize import fsolve\n",
    "\n",
    "def U(t):\n",
    "    return 1000*np.exp(0.1*t)\n",
    "\n",
    "print(U(12))"
   ]
  },
  {
   "cell_type": "code",
   "execution_count": 14,
   "metadata": {},
   "outputs": [
    {
     "name": "stdout",
     "output_type": "stream",
     "text": [
      "[12.62925314]\n"
     ]
    }
   ],
   "source": [
    "#7\n",
    "\n",
    "import numpy as np\n",
    "from scipy.optimize import fsolve\n",
    "\n",
    "def D(t):\n",
    "    return 2*1.2**t-20\n",
    "\n",
    "xo = np.linspace(0, 1000,1)\n",
    "solucion = fsolve(D, xo)\n",
    "print(solucion)"
   ]
  },
  {
   "cell_type": "code",
   "execution_count": 17,
   "metadata": {},
   "outputs": [
    {
     "name": "stdout",
     "output_type": "stream",
     "text": [
      "El término 1 es 3\n",
      "El término 2 es 36\n",
      "El término 3 es 129\n",
      "El término 4 es 312\n",
      "El término 5 es 615\n",
      "El término 6 es 1068\n",
      "El término 7 es 1701\n",
      "El término 8 es 2544\n",
      "El término 9 es 3627\n",
      "El término 10 es 4980\n",
      "El término 11 es 6633\n",
      "El término 12 es 8616\n",
      "El término 13 es 10959\n",
      "El término 14 es 13692\n",
      "El término 15 es 16845\n"
     ]
    }
   ],
   "source": [
    "#10\n",
    "\n",
    "import numpy as np\n",
    "\n",
    "sucesion = []\n",
    "for i in range(15):\n",
    "    n = i + 1\n",
    "    sucesion.append(5*n**3 - 2*n)\n",
    "    print(f'El término {n} es {sucesion[i]}')\n"
   ]
  },
  {
   "cell_type": "code",
   "execution_count": null,
   "metadata": {},
   "outputs": [
    {
     "name": "stdout",
     "output_type": "stream",
     "text": [
      "El término 1 es 2.1\n",
      "El término 2 es 2.2\n",
      "El término 3 es 2.3000000000000003\n",
      "El término 4 es 2.4000000000000004\n",
      "El término 5 es 2.5\n",
      "El término 6 es 2.6\n",
      "El término 7 es 2.7\n",
      "El término 8 es 2.8000000000000003\n",
      "El término 9 es 2.9000000000000004\n",
      "El término 10 es 3.0\n",
      "El término 11 es 3.1\n",
      "El término 12 es 3.2\n",
      "El término 13 es 3.3000000000000003\n",
      "El término 14 es 3.4000000000000004\n",
      "El término 15 es 3.5\n",
      "El término 16 es 3.6\n",
      "El término 17 es 3.7\n",
      "El término 18 es 3.8000000000000003\n",
      "El término 19 es 3.9000000000000004\n",
      "El término 20 es 4.0\n",
      "El término 21 es 4.1\n",
      "El término 22 es 4.2\n",
      "El término 23 es 4.300000000000001\n",
      "El término 24 es 4.4\n",
      "El término 25 es 4.5\n",
      "El término 26 es 4.6\n",
      "El término 27 es 4.7\n",
      "El término 28 es 4.800000000000001\n",
      "El término 29 es 4.9\n",
      "El término 30 es 5.0\n",
      "El término 31 es 5.1\n",
      "El término 32 es 5.2\n",
      "El término 33 es 5.300000000000001\n",
      "El término 34 es 5.4\n",
      "El término 35 es 5.5\n",
      "El término 36 es 5.6\n"
     ]
    }
   ],
   "source": [
    "#9\n",
    "import numpy as np\n",
    "\n",
    "sucesion = []\n",
    "for i in range(36):\n",
    "    n = i + 1\n",
    "    sucesion.append(2.1 +(n-1)*0.1)\n",
    "    print(f'El término {n} es {sucesion[i]}')\n",
    "\n",
    "\n",
    "\n"
   ]
  },
  {
   "cell_type": "code",
   "execution_count": 29,
   "metadata": {},
   "outputs": [
    {
     "name": "stdout",
     "output_type": "stream",
     "text": [
      "El término 25 es 1120\n"
     ]
    }
   ],
   "source": [
    "#8\n",
    "import numpy as np\n",
    "\n",
    "sucesion = []\n",
    "for i in range(25):\n",
    "    n = i + 1\n",
    "    sucesion.append(1000+(n-1)*5)\n",
    "print(f'El término {n} es {sucesion[i]}')\n"
   ]
  },
  {
   "cell_type": "code",
   "execution_count": 31,
   "metadata": {},
   "outputs": [
    {
     "name": "stdout",
     "output_type": "stream",
     "text": [
      "El término 8 es 580\n",
      "3520\n"
     ]
    }
   ],
   "source": [
    "#13\n",
    "\n",
    "import numpy as np\n",
    "\n",
    "sucesion = []\n",
    "for i in range(8):\n",
    "    n = i + 1\n",
    "    sucesion.append(300 +(n-1)*40)\n",
    "print(f'El término {n} es {sucesion[i]}')\n",
    "\n",
    "suma = sum(sucesion)\n",
    "print(suma)"
   ]
  },
  {
   "cell_type": "markdown",
   "metadata": {},
   "source": [
    "a_4 = 24\n",
    "a_6 = 96\n",
    "\n",
    "an = a1 * r**(n-1)\n",
    "\n",
    "24 = a1 * r**3          ---\n",
    "96 = a1 * r **5\n",
    "\n",
    "Tecnica(oredene la potencia mayor arriba y haga ---- = -----)\n",
    "\n",
    "96 = a1 * r **5\n",
    "24 = a1 * r**3\n",
    "\n",
    "96/24 = r**2\n",
    "4     = r**2\n",
    "\n",
    "4(1/2) = r ( lo mismo es decir : la raiz cuadrada de 4)\n",
    "    2  = r\n",
    "\n",
    "Remplazo r = 2 en ---\n",
    "24 = a1 * 2**3\n",
    "\n",
    "24/8 = a1\n",
    "   3 = a1\n",
    "\n",
    "an = 3*2** (n-1)"
   ]
  },
  {
   "cell_type": "code",
   "execution_count": 36,
   "metadata": {},
   "outputs": [
    {
     "name": "stdout",
     "output_type": "stream",
     "text": [
      "El término 9 es 768\n"
     ]
    }
   ],
   "source": [
    "#14\n",
    "\n",
    "import numpy as np\n",
    "\n",
    "sucesion = []\n",
    "for i in range(9):\n",
    "    n = i + 1\n",
    "    sucesion.append(3*2**(n-1))\n",
    "print(f'El término {n} es {sucesion[i]}')\n",
    "\n"
   ]
  }
 ],
 "metadata": {
  "kernelspec": {
   "display_name": "Python 3",
   "language": "python",
   "name": "python3"
  },
  "language_info": {
   "codemirror_mode": {
    "name": "ipython",
    "version": 3
   },
   "file_extension": ".py",
   "mimetype": "text/x-python",
   "name": "python",
   "nbconvert_exporter": "python",
   "pygments_lexer": "ipython3",
   "version": "3.12.4"
  }
 },
 "nbformat": 4,
 "nbformat_minor": 2
}
